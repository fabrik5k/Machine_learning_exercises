{
 "cells": [
  {
   "cell_type": "markdown",
   "id": "14f70712",
   "metadata": {},
   "source": [
    "# Importando bibliotecas"
   ]
  },
  {
   "cell_type": "code",
   "execution_count": 18,
   "id": "da981863",
   "metadata": {},
   "outputs": [],
   "source": [
    "import numpy as np\n",
    "import matplotlib.pyplot as plt\n",
    "import pandas as pd\n",
    "import seaborn as sns"
   ]
  },
  {
   "cell_type": "markdown",
   "id": "59d7a1a9",
   "metadata": {},
   "source": [
    "# Resumo do Dataset: column_2C_weka.csv\n",
    "\n",
    "Este dataset contém atributos biomecânicos derivados da forma e orientação da pelve e da coluna lombar. O objetivo é classificar pacientes como \"Normal\" ou \"Anormal\".\n",
    "\n",
    "## Descrição das Variáveis\n",
    "\n",
    "| Variável                 | Descrição |\n",
    "|--------------------------|-------------|\n",
    "| pelvic_incidence         | Incidência Pélvica: Ângulo entre a linha perpendicular à placa sacral e a linha que conecta a placa sacral às cabeças femorais. |\n",
    "| pelvic_tilt numeric      | Inclinação Pélvica: Ângulo entre a vertical e a linha que passa pelo ponto médio da placa sacral até as cabeças femorais. |\n",
    "| lumbar_lordosis_angle    | Ângulo de Lordose Lombar: Ângulo de curvatura da coluna lombar. |\n",
    "| sacral_slope             | Inclinação Sacral: Ângulo entre a horizontal e a placa sacral. |\n",
    "| pelvic_radius            | Raio Pélvico: Distância do centro da placa sacral até as cabeças femorais. |\n",
    "| degree_spondylolisthesis | Grau de Espondilolistese: Medida do deslocamento de uma vértebra em relação a outra. |\n",
    "| class                    | Classe: Classificação do paciente, podendo ser \"Normal\" ou \"Anormal\". |\n"
   ]
  },
  {
   "cell_type": "code",
   "execution_count": 19,
   "id": "55856032",
   "metadata": {},
   "outputs": [
    {
     "data": {
      "text/html": [
       "<div>\n",
       "<style scoped>\n",
       "    .dataframe tbody tr th:only-of-type {\n",
       "        vertical-align: middle;\n",
       "    }\n",
       "\n",
       "    .dataframe tbody tr th {\n",
       "        vertical-align: top;\n",
       "    }\n",
       "\n",
       "    .dataframe thead th {\n",
       "        text-align: right;\n",
       "    }\n",
       "</style>\n",
       "<table border=\"1\" class=\"dataframe\">\n",
       "  <thead>\n",
       "    <tr style=\"text-align: right;\">\n",
       "      <th></th>\n",
       "      <th>pelvic_incidence</th>\n",
       "      <th>pelvic_tilt numeric</th>\n",
       "      <th>lumbar_lordosis_angle</th>\n",
       "      <th>sacral_slope</th>\n",
       "      <th>pelvic_radius</th>\n",
       "      <th>degree_spondylolisthesis</th>\n",
       "      <th>class</th>\n",
       "    </tr>\n",
       "  </thead>\n",
       "  <tbody>\n",
       "    <tr>\n",
       "      <th>0</th>\n",
       "      <td>63.027817</td>\n",
       "      <td>22.552586</td>\n",
       "      <td>39.609117</td>\n",
       "      <td>40.475232</td>\n",
       "      <td>98.672917</td>\n",
       "      <td>-0.254400</td>\n",
       "      <td>Abnormal</td>\n",
       "    </tr>\n",
       "    <tr>\n",
       "      <th>1</th>\n",
       "      <td>39.056951</td>\n",
       "      <td>10.060991</td>\n",
       "      <td>25.015378</td>\n",
       "      <td>28.995960</td>\n",
       "      <td>114.405425</td>\n",
       "      <td>4.564259</td>\n",
       "      <td>Abnormal</td>\n",
       "    </tr>\n",
       "    <tr>\n",
       "      <th>2</th>\n",
       "      <td>68.832021</td>\n",
       "      <td>22.218482</td>\n",
       "      <td>50.092194</td>\n",
       "      <td>46.613539</td>\n",
       "      <td>105.985135</td>\n",
       "      <td>-3.530317</td>\n",
       "      <td>Abnormal</td>\n",
       "    </tr>\n",
       "    <tr>\n",
       "      <th>3</th>\n",
       "      <td>69.297008</td>\n",
       "      <td>24.652878</td>\n",
       "      <td>44.311238</td>\n",
       "      <td>44.644130</td>\n",
       "      <td>101.868495</td>\n",
       "      <td>11.211523</td>\n",
       "      <td>Abnormal</td>\n",
       "    </tr>\n",
       "    <tr>\n",
       "      <th>4</th>\n",
       "      <td>49.712859</td>\n",
       "      <td>9.652075</td>\n",
       "      <td>28.317406</td>\n",
       "      <td>40.060784</td>\n",
       "      <td>108.168725</td>\n",
       "      <td>7.918501</td>\n",
       "      <td>Abnormal</td>\n",
       "    </tr>\n",
       "  </tbody>\n",
       "</table>\n",
       "</div>"
      ],
      "text/plain": [
       "   pelvic_incidence  pelvic_tilt numeric  lumbar_lordosis_angle  sacral_slope  \\\n",
       "0         63.027817            22.552586              39.609117     40.475232   \n",
       "1         39.056951            10.060991              25.015378     28.995960   \n",
       "2         68.832021            22.218482              50.092194     46.613539   \n",
       "3         69.297008            24.652878              44.311238     44.644130   \n",
       "4         49.712859             9.652075              28.317406     40.060784   \n",
       "\n",
       "   pelvic_radius  degree_spondylolisthesis     class  \n",
       "0      98.672917                 -0.254400  Abnormal  \n",
       "1     114.405425                  4.564259  Abnormal  \n",
       "2     105.985135                 -3.530317  Abnormal  \n",
       "3     101.868495                 11.211523  Abnormal  \n",
       "4     108.168725                  7.918501  Abnormal  "
      ]
     },
     "execution_count": 19,
     "metadata": {},
     "output_type": "execute_result"
    }
   ],
   "source": [
    "df = pd.read_csv('../datasets/column_2C_weka.csv')\n",
    "df.head()"
   ]
  },
  {
   "cell_type": "code",
   "execution_count": 20,
   "id": "2da0c3d4",
   "metadata": {},
   "outputs": [
    {
     "data": {
      "image/png": "[encoded data removed]",
      "text/plain": [
       "<Figure size 640x480 with 1 Axes>"
      ]
     },
     "metadata": {},
     "output_type": "display_data"
    }
   ],
   "source": [
    "hist = df['class'].value_counts()\n",
    "\n",
    "sns.barplot(hist)\n",
    "plt.show()"
   ]
  },
  {
   "cell_type": "code",
   "execution_count": 26,
   "id": "84054a7c",
   "metadata": {},
   "outputs": [
    {
     "data": {
      "text/plain": [
       "pelvic_incidence            0\n",
       "pelvic_tilt numeric         0\n",
       "lumbar_lordosis_angle       0\n",
       "sacral_slope                0\n",
       "pelvic_radius               0\n",
       "degree_spondylolisthesis    0\n",
       "class                       0\n",
       "dtype: int64"
      ]
     },
     "execution_count": 26,
     "metadata": {},
     "output_type": "execute_result"
    }
   ],
   "source": [
    "df.isna().sum()"
   ]
  },
  {
   "cell_type": "code",
   "execution_count": 28,
   "id": "24a328e4",
   "metadata": {},
   "outputs": [
    {
     "name": "stdout",
     "output_type": "stream",
     "text": [
      "Número de duplicatas: 0\n"
     ]
    }
   ],
   "source": [
    "print(f'Número de duplicatas: {len(df[df.duplicated()])}')"
   ]
  },
  {
   "cell_type": "markdown",
   "id": "5295bdee",
   "metadata": {},
   "source": [
    "# Pre processamento e ajuste de parâmetros"
   ]
  },
  {
   "cell_type": "code",
   "execution_count": 31,
   "id": "b7e7ca2e",
   "metadata": {},
   "outputs": [],
   "source": [
    "from sklearn.preprocessing import LabelEncoder\n",
    "\n",
    "labelEncoder = LabelEncoder()\n",
    "\n",
    "x = df.drop('class', axis=1)\n",
    "y = df['class']\n",
    "\n",
    "y = y.map({'Normal': 0, 'Abnormal':1})"
   ]
  },
  {
   "cell_type": "code",
   "execution_count": 34,
   "id": "f3934b2a",
   "metadata": {},
   "outputs": [
    {
     "name": "stdout",
     "output_type": "stream",
     "text": [
      "Mínimo split:  2\n",
      "Máxima profundidade:  5\n",
      "Algoritmo escolhido:  entropy\n",
      "Acuracia:  0.7741935483870968\n"
     ]
    },
    {
     "ename": "",
     "evalue": "",
     "output_type": "error",
     "traceback": [
      "\u001b[1;31mThe Kernel crashed while executing code in the current cell or a previous cell. \n",
      "\u001b[1;31mPlease review the code in the cell(s) to identify a possible cause of the failure. \n",
      "\u001b[1;31mClick <a href='https://aka.ms/vscodeJupyterKernelCrash'>here</a> for more info. \n",
      "\u001b[1;31mView Jupyter <a href='command:jupyter.viewOutput'>log</a> for further details."
     ]
    }
   ],
   "source": [
    "import numpy as np\n",
    "from sklearn.model_selection import GridSearchCV\n",
    "from sklearn.tree import DecisionTreeClassifier\n",
    "\n",
    "minimos_split = np.array([2,3,4,5,6,7,8])\n",
    "maximo_nivel = np.array([3,4,5,6])\n",
    "algoritmo = ['gini', 'entropy']\n",
    "valores_grid = {'min_samples_split':minimos_split, 'max_depth':maximo_nivel, 'criterion':algoritmo}\n",
    "\n",
    "modelo = DecisionTreeClassifier()\n",
    "\n",
    "gridDecisionTree = GridSearchCV(estimator = modelo, param_grid=valores_grid, cv=5, scoring=None)\n",
    "gridDecisionTree.fit(x,y)\n",
    "\n",
    "print('Mínimo split: ', gridDecisionTree.best_estimator_.min_samples_split)\n",
    "print('Máxima profundidade: ', gridDecisionTree.best_estimator_.max_depth)\n",
    "print('Algoritmo escolhido: ', gridDecisionTree.best_estimator_.criterion)\n",
    "print('Acuracia: ', gridDecisionTree.best_score_)"
   ]
  },
  {
   "cell_type": "markdown",
   "id": "78842db5",
   "metadata": {},
   "source": [
    "# Treinamento do modelo"
   ]
  },
  {
   "cell_type": "code",
   "execution_count": 33,
   "id": "3389af2f",
   "metadata": {},
   "outputs": [
    {
     "name": "stdout",
     "output_type": "stream",
     "text": [
      "Acurácia: 0.76\n",
      "Precisão: 0.87\n",
      "Recall: 0.77\n",
      "F1-Score: 0.82\n"
     ]
    }
   ],
   "source": [
    "from sklearn.model_selection import train_test_split\n",
    "from sklearn.metrics import accuracy_score, precision_score, recall_score, f1_score\n",
    "\n",
    "X_train, X_test, y_train, y_test = train_test_split(x, y, test_size=0.2, random_state=42)\n",
    "\n",
    "modelo = DecisionTreeClassifier(min_samples_split=7, \n",
    "                                max_depth=5, \n",
    "                                criterion='gini')\n",
    "modelo.fit(X_train, y_train)\n",
    "y_pred = modelo.predict(X_test)\n",
    "\n",
    "# Cálculo das métricas\n",
    "accuracy = accuracy_score(y_test, y_pred)\n",
    "precision = precision_score(y_test, y_pred)\n",
    "recall = recall_score(y_test, y_pred)\n",
    "f1 = f1_score(y_test, y_pred)\n",
    "\n",
    "print(f'Acurácia: {accuracy:.2f}')\n",
    "print(f'Precisão: {precision:.2f}')\n",
    "print(f'Recall: {recall:.2f}')\n",
    "print(f'F1-Score: {f1:.2f}')"
   ]
  },
  {
   "cell_type": "markdown",
   "id": "ef927b64",
   "metadata": {},
   "source": [
    "# Exportação do modelo"
   ]
  },
  {
   "cell_type": "code",
   "execution_count": 25,
   "id": "f4f67854",
   "metadata": {},
   "outputs": [
    {
     "name": "stdout",
     "output_type": "stream",
     "text": [
      "Acurácia do modelo carregado: 0.76\n"
     ]
    }
   ],
   "source": [
    "import joblib\n",
    "\n",
    "# Salvando o modelo\n",
    "joblib.dump(modelo, '../outputs/models/Decision_tree_pelvic_classifier.pkl')\n",
    "\n",
    "# Carregando o modelo\n",
    "modelo_carregado = joblib.load('../outputs/models/Decision_tree_pelvic_classifier.pkl')\n",
    "\n",
    "# Testando o modelo carregado\n",
    "y_pred_carregado = modelo_carregado.predict(X_test)\n",
    "print(f'Acurácia do modelo carregado: {accuracy_score(y_test, y_pred_carregado):.2f}')\n"
   ]
  }
 ],
 "metadata": {
  "kernelspec": {
   "display_name": "Python 3",
   "language": "python",
   "name": "python3"
  },
  "language_info": {
   "codemirror_mode": {
    "name": "ipython",
    "version": 3
   },
   "file_extension": ".py",
   "mimetype": "text/x-python",
   "name": "python",
   "nbconvert_exporter": "python",
   "pygments_lexer": "ipython3",
   "version": "3.11.9"
  }
 },
 "nbformat": 4,
 "nbformat_minor": 5
}
