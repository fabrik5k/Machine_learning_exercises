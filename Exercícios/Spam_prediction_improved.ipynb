{
 "cells": [
  {
   "cell_type": "code",
   "execution_count": 1,
   "id": "59e94347",
   "metadata": {},
   "outputs": [],
   "source": [
    "\n",
    "# Importação de bibliotecas necessárias\n",
    "import pandas as pd\n",
    "from sklearn.model_selection import train_test_split, cross_val_score\n",
    "from sklearn.feature_extraction.text import CountVectorizer, TfidfVectorizer\n",
    "from sklearn.naive_bayes import MultinomialNB\n",
    "from sklearn.metrics import accuracy_score, precision_score, recall_score, f1_score, confusion_matrix, ConfusionMatrixDisplay\n",
    "import seaborn as sns\n",
    "import matplotlib.pyplot as plt\n"
   ]
  },
  {
   "cell_type": "code",
   "execution_count": 2,
   "id": "fec561af",
   "metadata": {},
   "outputs": [
    {
     "data": {
      "text/html": [
       "<div>\n",
       "<style scoped>\n",
       "    .dataframe tbody tr th:only-of-type {\n",
       "        vertical-align: middle;\n",
       "    }\n",
       "\n",
       "    .dataframe tbody tr th {\n",
       "        vertical-align: top;\n",
       "    }\n",
       "\n",
       "    .dataframe thead th {\n",
       "        text-align: right;\n",
       "    }\n",
       "</style>\n",
       "<table border=\"1\" class=\"dataframe\">\n",
       "  <thead>\n",
       "    <tr style=\"text-align: right;\">\n",
       "      <th></th>\n",
       "      <th>v1</th>\n",
       "      <th>v2</th>\n",
       "      <th>Unnamed: 2</th>\n",
       "      <th>Unnamed: 3</th>\n",
       "      <th>Unnamed: 4</th>\n",
       "    </tr>\n",
       "  </thead>\n",
       "  <tbody>\n",
       "    <tr>\n",
       "      <th>0</th>\n",
       "      <td>ham</td>\n",
       "      <td>Go until jurong point, crazy.. Available only ...</td>\n",
       "      <td>NaN</td>\n",
       "      <td>NaN</td>\n",
       "      <td>NaN</td>\n",
       "    </tr>\n",
       "    <tr>\n",
       "      <th>1</th>\n",
       "      <td>ham</td>\n",
       "      <td>Ok lar... Joking wif u oni...</td>\n",
       "      <td>NaN</td>\n",
       "      <td>NaN</td>\n",
       "      <td>NaN</td>\n",
       "    </tr>\n",
       "    <tr>\n",
       "      <th>2</th>\n",
       "      <td>spam</td>\n",
       "      <td>Free entry in 2 a wkly comp to win FA Cup fina...</td>\n",
       "      <td>NaN</td>\n",
       "      <td>NaN</td>\n",
       "      <td>NaN</td>\n",
       "    </tr>\n",
       "    <tr>\n",
       "      <th>3</th>\n",
       "      <td>ham</td>\n",
       "      <td>U dun say so early hor... U c already then say...</td>\n",
       "      <td>NaN</td>\n",
       "      <td>NaN</td>\n",
       "      <td>NaN</td>\n",
       "    </tr>\n",
       "    <tr>\n",
       "      <th>4</th>\n",
       "      <td>ham</td>\n",
       "      <td>Nah I don't think he goes to usf, he lives aro...</td>\n",
       "      <td>NaN</td>\n",
       "      <td>NaN</td>\n",
       "      <td>NaN</td>\n",
       "    </tr>\n",
       "  </tbody>\n",
       "</table>\n",
       "</div>"
      ],
      "text/plain": [
       "     v1                                                 v2 Unnamed: 2  \\\n",
       "0   ham  Go until jurong point, crazy.. Available only ...        NaN   \n",
       "1   ham                      Ok lar... Joking wif u oni...        NaN   \n",
       "2  spam  Free entry in 2 a wkly comp to win FA Cup fina...        NaN   \n",
       "3   ham  U dun say so early hor... U c already then say...        NaN   \n",
       "4   ham  Nah I don't think he goes to usf, he lives aro...        NaN   \n",
       "\n",
       "  Unnamed: 3 Unnamed: 4  \n",
       "0        NaN        NaN  \n",
       "1        NaN        NaN  \n",
       "2        NaN        NaN  \n",
       "3        NaN        NaN  \n",
       "4        NaN        NaN  "
      ]
     },
     "metadata": {},
     "output_type": "display_data"
    }
   ],
   "source": [
    "try:\n",
    "    df = pd.read_csv('../datasets/spam.csv', encoding='Windows-1252')\n",
    "    display(df.head())\n",
    "except Exception as e:\n",
    "    print(f\"Erro ao carregar o dataset: {e}\")"
   ]
  },
  {
   "cell_type": "markdown",
   "id": "d656e86e",
   "metadata": {},
   "source": [
    "\n",
    "### Limpeza e Renomeação de Colunas\n",
    "Removemos as colunas que não têm utilidade para a análise e renomeamos para tornar as colunas mais descritivas.\n"
   ]
  },
  {
   "cell_type": "code",
   "execution_count": 3,
   "id": "91ad23e2",
   "metadata": {},
   "outputs": [
    {
     "name": "stdout",
     "output_type": "stream",
     "text": [
      "<class 'pandas.core.frame.DataFrame'>\n",
      "RangeIndex: 5572 entries, 0 to 5571\n",
      "Data columns (total 2 columns):\n",
      " #   Column   Non-Null Count  Dtype \n",
      "---  ------   --------------  ----- \n",
      " 0   Label    5572 non-null   object\n",
      " 1   Message  5572 non-null   object\n",
      "dtypes: object(2)\n",
      "memory usage: 87.2+ KB\n"
     ]
    }
   ],
   "source": [
    "df.drop(columns=['Unnamed: 2', 'Unnamed: 3', 'Unnamed: 4'], inplace=True)\n",
    "df.columns = ['Label', 'Message']\n",
    "df.info()"
   ]
  },
  {
   "cell_type": "markdown",
   "id": "18499b4b",
   "metadata": {},
   "source": [
    "\n",
    "### Análise da Distribuição dos Rótulos\n",
    "Aqui verificamos se o dataset está balanceado em termos de e-mails classificados como 'spam' e 'ham'.\n"
   ]
  },
  {
   "cell_type": "code",
   "execution_count": 4,
   "id": "ec60e103",
   "metadata": {},
   "outputs": [
    {
     "data": {
      "image/png": "[encoded data removed]",
      "text/plain": [
       "<Figure size 640x480 with 1 Axes>"
      ]
     },
     "metadata": {},
     "output_type": "display_data"
    }
   ],
   "source": [
    "# Distribuição dos rótulos\n",
    "freq = df['Label'].value_counts()\n",
    "freq_df = freq.reset_index()\n",
    "freq_df.columns = ['Label', 'count']\n",
    "freq_df['Relative Freq'] = round(freq_df['count'] / freq_df['count'].sum() * 100, 2)\n",
    "\n",
    "# Gráfico de barras da distribuição dos rótulos\n",
    "sns.barplot(x=freq_df['Label'], y=freq_df['Relative Freq'])\n",
    "plt.title('Distribuição Relativa dos Rótulos')\n",
    "plt.show()"
   ]
  },
  {
   "cell_type": "markdown",
   "id": "31547c2e",
   "metadata": {},
   "source": [
    "\n",
    "### Pré-processamento e Tokenização\n",
    "Transformamos as mensagens em vetores de contagem para que possam ser usadas pelo modelo. O `CountVectorizer` converte o texto em uma matriz esparsa com a frequência de cada palavra.\n"
   ]
  },
  {
   "cell_type": "code",
   "execution_count": 5,
   "id": "99002f98",
   "metadata": {},
   "outputs": [],
   "source": [
    "vectorizer = CountVectorizer()\n",
    "X_counts = vectorizer.fit_transform(df['Message'])\n",
    "y = df['Label'].map({'spam': 1, 'ham': 0})\n",
    "\n",
    "X_train, X_test, y_train, y_test = train_test_split(X_counts, y, test_size=0.2, random_state=42)"
   ]
  },
  {
   "cell_type": "markdown",
   "id": "741bcda6",
   "metadata": {},
   "source": [
    "\n",
    "### Treinamento e Avaliação do Modelo\n",
    "Utilizamos o `MultinomialNB`, um modelo Naive Bayes adequado para classificação de texto. Aqui também calculamos métricas como Acurácia, Precisão, Recall e F1-Score.\n"
   ]
  },
  {
   "cell_type": "code",
   "execution_count": 6,
   "id": "bbffe1de",
   "metadata": {},
   "outputs": [
    {
     "name": "stdout",
     "output_type": "stream",
     "text": [
      "Acurácia: 0.98\n",
      "Precisão: 0.91\n",
      "Recall: 0.93\n",
      "F1-Score: 0.92\n"
     ]
    }
   ],
   "source": [
    "modelo = MultinomialNB()\n",
    "modelo.fit(X_train, y_train)\n",
    "y_pred = modelo.predict(X_test)\n",
    "\n",
    "# Cálculo das métricas\n",
    "accuracy = accuracy_score(y_test, y_pred)\n",
    "precision = precision_score(y_test, y_pred)\n",
    "recall = recall_score(y_test, y_pred)\n",
    "f1 = f1_score(y_test, y_pred)\n",
    "\n",
    "print(f'Acurácia: {accuracy:.2f}')\n",
    "print(f'Precisão: {precision:.2f}')\n",
    "print(f'Recall: {recall:.2f}')\n",
    "print(f'F1-Score: {f1:.2f}')\n"
   ]
  },
  {
   "cell_type": "markdown",
   "id": "5aa07db8",
   "metadata": {},
   "source": [
    "\n",
    "### Matriz de Confusão\n",
    "A matriz de confusão nos dá uma visão detalhada das previsões corretas e incorretas do modelo.\n"
   ]
  },
  {
   "cell_type": "code",
   "execution_count": 7,
   "id": "30432d68",
   "metadata": {},
   "outputs": [
    {
     "data": {
      "image/png": "[encoded data removed]",
      "text/plain": [
       "<Figure size 640x480 with 2 Axes>"
      ]
     },
     "metadata": {},
     "output_type": "display_data"
    }
   ],
   "source": [
    "\n",
    "cm = confusion_matrix(y_test, y_pred)\n",
    "ConfusionMatrixDisplay(cm, display_labels=['Ham', 'Spam']).plot()\n",
    "plt.show()\n"
   ]
  },
  {
   "cell_type": "markdown",
   "id": "a9daeaf1",
   "metadata": {},
   "source": [
    "\n",
    "### Validação Cruzada\n",
    "Podemos utilizar **K-Fold Cross-Validation** para garantir que o modelo tenha uma avaliação mais robusta.\n"
   ]
  },
  {
   "cell_type": "code",
   "execution_count": 8,
   "id": "64251281",
   "metadata": {},
   "outputs": [
    {
     "name": "stdout",
     "output_type": "stream",
     "text": [
      "Acurácia média com Cross-Validation: 0.98\n"
     ]
    }
   ],
   "source": [
    "\n",
    "scores = cross_val_score(modelo, X_counts, y, cv=5)\n",
    "print(f\"Acurácia média com Cross-Validation: {scores.mean():.2f}\")\n"
   ]
  }
 ],
 "metadata": {
  "kernelspec": {
   "display_name": "Python 3",
   "language": "python",
   "name": "python3"
  },
  "language_info": {
   "codemirror_mode": {
    "name": "ipython",
    "version": 3
   },
   "file_extension": ".py",
   "mimetype": "text/x-python",
   "name": "python",
   "nbconvert_exporter": "python",
   "pygments_lexer": "ipython3",
   "version": "3.11.9"
  }
 },
 "nbformat": 4,
 "nbformat_minor": 5
}
